{
 "cells": [
  {
   "cell_type": "code",
   "execution_count": 379,
   "metadata": {},
   "outputs": [],
   "source": [
    "import pickle\n",
    "import numpy as np\n",
    "import pandas as pd\n",
    "from PIL import Image\n",
    "import matplotlib.pyplot as plt\n",
    "import seaborn as sns\n",
    "import tensorflow as tf"
   ]
  },
  {
   "cell_type": "code",
   "execution_count": 380,
   "metadata": {},
   "outputs": [],
   "source": [
    "infile = open('Vision_task_dataset_public/train_image.pkl','rb')\n",
    "x_data = np.asarray(pickle.load(infile))\n",
    "infile.close()"
   ]
  },
  {
   "cell_type": "code",
   "execution_count": 381,
   "metadata": {},
   "outputs": [],
   "source": [
    "infile = open('Vision_task_dataset_public/train_label.pkl','rb')\n",
    "y_data = np.asarray(pickle.load(infile))\n",
    "infile.close()"
   ]
  },
  {
   "cell_type": "code",
   "execution_count": 382,
   "metadata": {},
   "outputs": [
    {
     "name": "stdout",
     "output_type": "stream",
     "text": [
      "(8000, 784) (8000,)\n"
     ]
    }
   ],
   "source": [
    "print(x_data.shape, y_data.shape)"
   ]
  },
  {
   "cell_type": "code",
   "execution_count": 383,
   "metadata": {},
   "outputs": [
    {
     "name": "stdout",
     "output_type": "stream",
     "text": [
      "(8000, 28, 28) (8000,)\n"
     ]
    }
   ],
   "source": [
    "x_data=x_data.reshape(-1,28,28)\n",
    "print(x_data.shape, y_data.shape)"
   ]
  },
  {
   "cell_type": "code",
   "execution_count": 384,
   "metadata": {},
   "outputs": [
    {
     "data": {
      "text/plain": [
       "{0, 2, 3, 6}"
      ]
     },
     "execution_count": 384,
     "metadata": {},
     "output_type": "execute_result"
    }
   ],
   "source": [
    "set(y_data)"
   ]
  },
  {
   "cell_type": "code",
   "execution_count": 385,
   "metadata": {},
   "outputs": [],
   "source": [
    "#split into test train\n",
    "from sklearn.model_selection import train_test_split"
   ]
  },
  {
   "cell_type": "code",
   "execution_count": 386,
   "metadata": {},
   "outputs": [],
   "source": [
    "X_train, X_test, y_train, y_test = train_test_split(x_data,y_data,test_size=0.1,random_state=101)"
   ]
  },
  {
   "cell_type": "code",
   "execution_count": 387,
   "metadata": {},
   "outputs": [
    {
     "name": "stdout",
     "output_type": "stream",
     "text": [
      "(7200, 28, 28) (7200,)\n",
      "(800, 28, 28) (800,)\n"
     ]
    }
   ],
   "source": [
    "print(X_train.shape, y_train.shape)\n",
    "print(X_test.shape, y_test.shape)"
   ]
  },
  {
   "cell_type": "code",
   "execution_count": 388,
   "metadata": {},
   "outputs": [
    {
     "data": {
      "text/plain": [
       "<matplotlib.axes._subplots.AxesSubplot at 0x2e26ac865f8>"
      ]
     },
     "execution_count": 388,
     "metadata": {},
     "output_type": "execute_result"
    },
    {
     "data": {
      "image/png": "[encoded data removed]",
      "text/plain": [
       "<Figure size 432x288 with 1 Axes>"
      ]
     },
     "metadata": {
      "needs_background": "light"
     },
     "output_type": "display_data"
    }
   ],
   "source": [
    "sns.countplot(y_train)  # plotting distribution of all classes"
   ]
  },
  {
   "cell_type": "code",
   "execution_count": 389,
   "metadata": {},
   "outputs": [
    {
     "name": "stdout",
     "output_type": "stream",
     "text": [
      "6\n"
     ]
    },
    {
     "data": {
      "image/png": "[encoded data removed]",
      "text/plain": [
       "<Figure size 432x288 with 1 Axes>"
      ]
     },
     "metadata": {
      "needs_background": "light"
     },
     "output_type": "display_data"
    }
   ],
   "source": [
    "#plotting some random images\n",
    "plt.imshow(X_train[2000])\n",
    "print(y_train[2000])"
   ]
  },
  {
   "cell_type": "code",
   "execution_count": 390,
   "metadata": {},
   "outputs": [
    {
     "name": "stdout",
     "output_type": "stream",
     "text": [
      "3\n"
     ]
    },
    {
     "data": {
      "image/png": "[encoded data removed]",
      "text/plain": [
       "<Figure size 432x288 with 1 Axes>"
      ]
     },
     "metadata": {
      "needs_background": "light"
     },
     "output_type": "display_data"
    }
   ],
   "source": [
    "#plotting some random images\n",
    "plt.imshow(X_train[6258],cmap='Greys')\n",
    "print(y_train[6258])"
   ]
  },
  {
   "cell_type": "code",
   "execution_count": 391,
   "metadata": {
    "scrolled": true
   },
   "outputs": [
    {
     "name": "stdout",
     "output_type": "stream",
     "text": [
      "0\n"
     ]
    },
    {
     "data": {
      "image/png": "[encoded data removed]",
      "text/plain": [
       "<Figure size 432x288 with 1 Axes>"
      ]
     },
     "metadata": {
      "needs_background": "light"
     },
     "output_type": "display_data"
    }
   ],
   "source": [
    "#plotting some random images\n",
    "plt.imshow(X_train[1],cmap='Greys')\n",
    "print(y_train[1])"
   ]
  },
  {
   "cell_type": "code",
   "execution_count": 392,
   "metadata": {},
   "outputs": [
    {
     "name": "stdout",
     "output_type": "stream",
     "text": [
      "(7200, 28, 28)\n",
      "(7200,)\n",
      "(800, 28, 28)\n",
      "(800,)\n"
     ]
    }
   ],
   "source": [
    "print(X_train.shape)\n",
    "print(y_train.shape)\n",
    "print(X_test.shape)\n",
    "print(y_test.shape) "
   ]
  },
  {
   "cell_type": "code",
   "execution_count": 393,
   "metadata": {},
   "outputs": [
    {
     "name": "stdout",
     "output_type": "stream",
     "text": [
      "X_train shape: (7200, 28, 28)\n",
      "Number of images in X_train 7200\n",
      "Number of images in X_test 800\n"
     ]
    }
   ],
   "source": [
    "# Making sure that the values are float so that we can get decimal points after division\n",
    "X_train = X_train.astype('float32')\n",
    "X_test = X_test.astype('float32')\n",
    "# Normalizing the RGB codes by dividing it to the max RGB value.\n",
    "X_train /= 255\n",
    "X_test /= 255\n",
    "print('X_train shape:', X_train.shape)\n",
    "print('Number of images in X_train', X_train.shape[0])\n",
    "print('Number of images in X_test', X_test.shape[0])"
   ]
  },
  {
   "cell_type": "code",
   "execution_count": 394,
   "metadata": {},
   "outputs": [
    {
     "name": "stdout",
     "output_type": "stream",
     "text": [
      "x_train shape: (6480, 28, 28, 1) y_train shape: (6480, 7)\n",
      "6480 train set\n",
      "720 validation set\n",
      "800 test set\n"
     ]
    }
   ],
   "source": [
    "# Further break training data into train / validation sets\n",
    "X_train, X_valid, y_train, y_valid = train_test_split(X_train,y_train,test_size=0.1,random_state=41)\n",
    "\n",
    "# Reshape input data from (28, 28) to (28, 28, 1)\n",
    "w, h = 28, 28\n",
    "X_train = X_train.reshape(X_train.shape[0], w, h, 1)\n",
    "X_valid = X_valid.reshape(X_valid.shape[0], w, h, 1)\n",
    "X_test = X_test.reshape(X_test.shape[0], w, h, 1)\n",
    "\n",
    "# One-hot encode the labels\n",
    "\n",
    "y_train = tf.keras.utils.to_categorical(y_train, 7) # i have take 7 as size of one-hot encoding vector because max label value is 6 which can fit if we take array size of 7\n",
    "y_valid = tf.keras.utils.to_categorical(y_valid, 7)\n",
    "y_test = tf.keras.utils.to_categorical(y_test, 7)\n",
    "\n",
    "# Print training set shape\n",
    "print(\"x_train shape:\", X_train.shape, \"y_train shape:\", y_train.shape)\n",
    "\n",
    "# Print the number of training, validation, and test datasets\n",
    "print(X_train.shape[0], 'train set')\n",
    "print(X_valid.shape[0], 'validation set')\n",
    "print(X_test.shape[0], 'test set')"
   ]
  },
  {
   "cell_type": "code",
   "execution_count": null,
   "metadata": {},
   "outputs": [],
   "source": []
  },
  {
   "cell_type": "code",
   "execution_count": 395,
   "metadata": {},
   "outputs": [],
   "source": [
    "# Importing the required Keras modules containing model and layers\n",
    "from keras.utils.np_utils import to_categorical # convert to one-hot-encoding\n",
    "from keras.models import Sequential\n",
    "from keras.layers import Dense, Dropout, Flatten, Conv2D, MaxPool2D"
   ]
  },
  {
   "cell_type": "code",
   "execution_count": 396,
   "metadata": {},
   "outputs": [
    {
     "name": "stdout",
     "output_type": "stream",
     "text": [
      "_________________________________________________________________\n",
      "Layer (type)                 Output Shape              Param #   \n",
      "=================================================================\n",
      "conv2d_8 (Conv2D)            (None, 28, 28, 64)        320       \n",
      "_________________________________________________________________\n",
      "max_pooling2d_8 (MaxPooling2 (None, 14, 14, 64)        0         \n",
      "_________________________________________________________________\n",
      "dropout_12 (Dropout)         (None, 14, 14, 64)        0         \n",
      "_________________________________________________________________\n",
      "conv2d_9 (Conv2D)            (None, 14, 14, 32)        8224      \n",
      "_________________________________________________________________\n",
      "max_pooling2d_9 (MaxPooling2 (None, 7, 7, 32)          0         \n",
      "_________________________________________________________________\n",
      "dropout_13 (Dropout)         (None, 7, 7, 32)          0         \n",
      "_________________________________________________________________\n",
      "flatten_4 (Flatten)          (None, 1568)              0         \n",
      "_________________________________________________________________\n",
      "dense_8 (Dense)              (None, 256)               401664    \n",
      "_________________________________________________________________\n",
      "dropout_14 (Dropout)         (None, 256)               0         \n",
      "_________________________________________________________________\n",
      "dense_9 (Dense)              (None, 7)                 1799      \n",
      "=================================================================\n",
      "Total params: 412,007\n",
      "Trainable params: 412,007\n",
      "Non-trainable params: 0\n",
      "_________________________________________________________________\n"
     ]
    }
   ],
   "source": [
    "# Creating a Sequential Model and adding the layers\n",
    "model = tf.keras.Sequential()\n",
    "# Must define the input shape in the first layer of the neural network\n",
    "model.add(tf.keras.layers.Conv2D(filters=64, kernel_size=2, padding='same', activation='relu', input_shape=(28,28,1))) \n",
    "model.add(tf.keras.layers.MaxPooling2D(pool_size=2))\n",
    "model.add(tf.keras.layers.Dropout(0.3))\n",
    "\n",
    "model.add(tf.keras.layers.Conv2D(filters=32, kernel_size=2, padding='same', activation='relu'))\n",
    "model.add(tf.keras.layers.MaxPooling2D(pool_size=2))\n",
    "\n",
    "model.add(tf.keras.layers.Dropout(0.3))\n",
    "\n",
    "model.add(tf.keras.layers.Flatten())\n",
    "\n",
    "model.add(tf.keras.layers.Dense(256, activation='relu'))\n",
    "\n",
    "model.add(tf.keras.layers.Dropout(0.5))\n",
    "\n",
    "model.add(tf.keras.layers.Dense(7, activation='softmax'))\n",
    "# Take a look at the model summary\n",
    "model.summary()"
   ]
  },
  {
   "cell_type": "markdown",
   "metadata": {},
   "source": [
    "### compile and fitting the model on 20 epochs"
   ]
  },
  {
   "cell_type": "code",
   "execution_count": 397,
   "metadata": {
    "scrolled": false
   },
   "outputs": [
    {
     "name": "stdout",
     "output_type": "stream",
     "text": [
      "Train on 6480 samples, validate on 720 samples\n",
      "Epoch 1/20\n",
      "6480/6480 [==============================] - 4s 617us/step - loss: 0.7986 - acc: 0.6696 - val_loss: 0.6367 - val_acc: 0.7292\n",
      "Epoch 2/20\n",
      "6480/6480 [==============================] - 2s 293us/step - loss: 0.6286 - acc: 0.7403 - val_loss: 0.5270 - val_acc: 0.7833\n",
      "Epoch 3/20\n",
      "6480/6480 [==============================] - 2s 334us/step - loss: 0.5484 - acc: 0.7787 - val_loss: 0.4677 - val_acc: 0.8028\n",
      "Epoch 4/20\n",
      "6480/6480 [==============================] - 2s 283us/step - loss: 0.5022 - acc: 0.8026 - val_loss: 0.4710 - val_acc: 0.7972\n",
      "Epoch 5/20\n",
      "6480/6480 [==============================] - 2s 294us/step - loss: 0.4718 - acc: 0.8187 - val_loss: 0.4467 - val_acc: 0.8097\n",
      "Epoch 6/20\n",
      "6480/6480 [==============================] - 2s 356us/step - loss: 0.4526 - acc: 0.8182 - val_loss: 0.4420 - val_acc: 0.8167\n",
      "Epoch 7/20\n",
      "6480/6480 [==============================] - 2s 363us/step - loss: 0.4298 - acc: 0.8332 - val_loss: 0.4010 - val_acc: 0.8333\n",
      "Epoch 8/20\n",
      "6480/6480 [==============================] - 2s 319us/step - loss: 0.4129 - acc: 0.8401 - val_loss: 0.3959 - val_acc: 0.8319\n",
      "Epoch 9/20\n",
      "6480/6480 [==============================] - 2s 274us/step - loss: 0.3908 - acc: 0.8472 - val_loss: 0.3988 - val_acc: 0.8389\n",
      "Epoch 10/20\n",
      "6480/6480 [==============================] - 2s 321us/step - loss: 0.3842 - acc: 0.8485 - val_loss: 0.3693 - val_acc: 0.8472\n",
      "Epoch 11/20\n",
      "6480/6480 [==============================] - 2s 289us/step - loss: 0.3800 - acc: 0.8511 - val_loss: 0.3674 - val_acc: 0.8431\n",
      "Epoch 12/20\n",
      "6480/6480 [==============================] - 2s 284us/step - loss: 0.3673 - acc: 0.8546 - val_loss: 0.3562 - val_acc: 0.8514\n",
      "Epoch 13/20\n",
      "6480/6480 [==============================] - 2s 273us/step - loss: 0.3576 - acc: 0.8559 - val_loss: 0.3844 - val_acc: 0.8417\n",
      "Epoch 14/20\n",
      "6480/6480 [==============================] - 2s 320us/step - loss: 0.3484 - acc: 0.8623 - val_loss: 0.3455 - val_acc: 0.8500\n",
      "Epoch 15/20\n",
      "6480/6480 [==============================] - 2s 305us/step - loss: 0.3262 - acc: 0.8704 - val_loss: 0.3399 - val_acc: 0.8472\n",
      "Epoch 16/20\n",
      "6480/6480 [==============================] - 2s 340us/step - loss: 0.3298 - acc: 0.8705 - val_loss: 0.3480 - val_acc: 0.8556\n",
      "Epoch 17/20\n",
      "6480/6480 [==============================] - 2s 318us/step - loss: 0.3323 - acc: 0.8696 - val_loss: 0.3402 - val_acc: 0.8597\n",
      "Epoch 18/20\n",
      "6480/6480 [==============================] - 2s 316us/step - loss: 0.3008 - acc: 0.8843 - val_loss: 0.3285 - val_acc: 0.8625\n",
      "Epoch 19/20\n",
      "6480/6480 [==============================] - 2s 343us/step - loss: 0.3064 - acc: 0.8802 - val_loss: 0.3270 - val_acc: 0.8556\n",
      "Epoch 20/20\n",
      "6480/6480 [==============================] - 2s 344us/step - loss: 0.2879 - acc: 0.8836 - val_loss: 0.3222 - val_acc: 0.8722\n"
     ]
    },
    {
     "data": {
      "text/plain": [
       "<tensorflow.python.keras.callbacks.History at 0x2e26aeab550>"
      ]
     },
     "execution_count": 397,
     "metadata": {},
     "output_type": "execute_result"
    }
   ],
   "source": [
    "model.compile(loss='categorical_crossentropy',optimizer='adam',metrics=['accuracy'])\n",
    "model.fit(X_train,\n",
    "         y_train,\n",
    "         batch_size=32,\n",
    "         epochs=20,\n",
    "         validation_data=(X_valid, y_valid))"
   ]
  },
  {
   "cell_type": "markdown",
   "metadata": {},
   "source": [
    "### testing accuracy on train, validation and test sets"
   ]
  },
  {
   "cell_type": "code",
   "execution_count": 398,
   "metadata": {},
   "outputs": [
    {
     "name": "stdout",
     "output_type": "stream",
     "text": [
      "6480/6480 [==============================] - 1s 82us/step\n",
      "Accuracy on training set 0.9239197530864197\n",
      "720/720 [==============================] - 0s 85us/step\n",
      "Accuracy on validation set 0.8722222222222222\n",
      "800/800 [==============================] - 0s 79us/step\n",
      "Accuracy on test set 0.89\n"
     ]
    }
   ],
   "source": [
    "print(\"Accuracy on training set\",model.evaluate(X_train, y_train)[1])\n",
    "print(\"Accuracy on validation set\",model.evaluate(X_valid, y_valid)[1])\n",
    "print(\"Accuracy on test set\",model.evaluate(X_test, y_test)[1])"
   ]
  },
  {
   "cell_type": "markdown",
   "metadata": {},
   "source": [
    "### checking randomly prediction results with photo af apparel"
   ]
  },
  {
   "cell_type": "code",
   "execution_count": 399,
   "metadata": {},
   "outputs": [
    {
     "name": "stdout",
     "output_type": "stream",
     "text": [
      "0\n"
     ]
    },
    {
     "data": {
      "image/png": "[encoded data removed]",
      "text/plain": [
       "<Figure size 432x288 with 1 Axes>"
      ]
     },
     "metadata": {
      "needs_background": "light"
     },
     "output_type": "display_data"
    }
   ],
   "source": [
    "image_index = 320\n",
    "plt.imshow(X_test[image_index].reshape(28, 28),cmap='Greys')\n",
    "pred = model.predict(X_test[image_index].reshape(1, 28, 28, 1))\n",
    "print(pred.argmax())"
   ]
  },
  {
   "cell_type": "markdown",
   "metadata": {},
   "source": [
    "### plotting 15 figures with predicted and actual results (red labelled images are showing wrong results)"
   ]
  },
  {
   "cell_type": "code",
   "execution_count": 400,
   "metadata": {},
   "outputs": [
    {
     "data": {
      "image/png": "[encoded data removed]",
      "text/plain": [
       "<Figure size 1080x1080 with 15 Axes>"
      ]
     },
     "metadata": {
      "needs_background": "light"
     },
     "output_type": "display_data"
    }
   ],
   "source": [
    "# Plot the first X test images, their predicted label, and the true label\n",
    "# Color correct predictions in blue, incorrect predictions in red\n",
    "predictions = model.predict(X_test)\n",
    "num_rows = 5\n",
    "num_cols = 3\n",
    "num_images = num_rows*num_cols\n",
    "plt.figure(figsize=(15,15))\n",
    "for i in range(num_images):\n",
    "    plt.subplot(num_rows, 2*num_cols, 2*i+1)\n",
    "    plt.imshow(X_test[i].reshape(28, 28),cmap='Greys')\n",
    "    if predictions[i].argmax()==y_test[i].argmax():\n",
    "        plt.xlabel(\"predicted - {} | actual - {}\".format(predictions[i].argmax(),y_test[i].argmax()),color=\"blue\")\n",
    "    else:\n",
    "        plt.xlabel(\"predicted - {} | actual - {}\".format(predictions[i].argmax(),y_test[i].argmax()),color=\"red\")\n",
    "\n",
    "plt.show()"
   ]
  },
  {
   "cell_type": "markdown",
   "metadata": {},
   "source": [
    "### As we can see there is overfitting in the model we can improve it using data augmentation"
   ]
  },
  {
   "cell_type": "code",
   "execution_count": null,
   "metadata": {},
   "outputs": [],
   "source": []
  },
  {
   "cell_type": "code",
   "execution_count": null,
   "metadata": {},
   "outputs": [],
   "source": []
  },
  {
   "cell_type": "code",
   "execution_count": null,
   "metadata": {},
   "outputs": [],
   "source": []
  },
  {
   "cell_type": "markdown",
   "metadata": {},
   "source": [
    "## Now predicting classes for test_image.pkl file and writing it into csv"
   ]
  },
  {
   "cell_type": "code",
   "execution_count": 401,
   "metadata": {},
   "outputs": [],
   "source": [
    "infile = open('Vision_task_dataset_public/test_image.pkl','rb')\n",
    "x_test_data = np.asarray(pickle.load(infile))\n",
    "infile.close()"
   ]
  },
  {
   "cell_type": "code",
   "execution_count": 402,
   "metadata": {},
   "outputs": [
    {
     "name": "stdout",
     "output_type": "stream",
     "text": [
      "(2000, 28, 28)\n"
     ]
    }
   ],
   "source": [
    "x_test_data=x_test_data.reshape(-1,28,28)\n",
    "print(data.shape)"
   ]
  },
  {
   "cell_type": "code",
   "execution_count": 403,
   "metadata": {},
   "outputs": [],
   "source": [
    "# Making sure that the values are float so that we can get decimal points after division\n",
    "x_test_data = x_test_data.astype('float32')\n",
    "# Normalizing the RGB codes by dividing it to the max RGB value.\n",
    "x_test_data /= 255.0"
   ]
  },
  {
   "cell_type": "code",
   "execution_count": 404,
   "metadata": {},
   "outputs": [],
   "source": [
    "x_test_data = x_test_data.reshape(x_test_data.shape[0], 28, 28, 1)"
   ]
  },
  {
   "cell_type": "code",
   "execution_count": 405,
   "metadata": {},
   "outputs": [],
   "source": [
    "prediction=model.predict(x_test_data)"
   ]
  },
  {
   "cell_type": "code",
   "execution_count": 406,
   "metadata": {},
   "outputs": [
    {
     "name": "stdout",
     "output_type": "stream",
     "text": [
      "Writing complete\n"
     ]
    }
   ],
   "source": [
    "import csv\n",
    "  \n",
    "myFile = open('kartik_tyagi.csv', 'w',newline='')\n",
    "with myFile:\n",
    "    writer = csv.writer(myFile)\n",
    "    writer.writerow(['image_index','class'])\n",
    "    for i in range(len(prediction)):\n",
    "        writer.writerow([i,prediction[i].argmax()])\n",
    "     \n",
    "    print(\"Writing complete\")"
   ]
  },
  {
   "cell_type": "code",
   "execution_count": null,
   "metadata": {},
   "outputs": [],
   "source": []
  }
 ],
 "metadata": {
  "kernelspec": {
   "display_name": "TensorFlow-GPU",
   "language": "python",
   "name": "tf-gpu"
  },
  "language_info": {
   "codemirror_mode": {
    "name": "ipython",
    "version": 3
   },
   "file_extension": ".py",
   "mimetype": "text/x-python",
   "name": "python",
   "nbconvert_exporter": "python",
   "pygments_lexer": "ipython3",
   "version": "3.6.8"
  }
 },
 "nbformat": 4,
 "nbformat_minor": 2
}
